{
 "cells": [
  {
   "cell_type": "code",
   "execution_count": null,
   "metadata": {
    "scrolled": true
   },
   "outputs": [],
   "source": [
    "from torch.utils.data import Dataset\n",
    "from torchvision import transforms\n",
    "from PIL import Image\n",
    "from matplotlib import pyplot as plt\n",
    "import albumentations\n",
    "from albumentations.pytorch import ToTensorV2\n",
    "import torch\n",
    "import torchvision\n",
    "import cv2"
   ]
  },
  {
   "cell_type": "markdown",
   "metadata": {},
   "source": [
    "## PATH 설정"
   ]
  },
  {
   "cell_type": "code",
   "execution_count": null,
   "metadata": {},
   "outputs": [],
   "source": [
    "path = 'C:/Users/mnju5/2023-youtuber-crawling/youtuber-look-alike-crawler/glory/hj'"
   ]
  },
  {
   "cell_type": "code",
   "execution_count": null,
   "metadata": {},
   "outputs": [],
   "source": [
    "file_list = os.listdir(path)"
   ]
  },
  {
   "cell_type": "code",
   "execution_count": null,
   "metadata": {},
   "outputs": [],
   "source": [
    "file_list[0]"
   ]
  },
  {
   "cell_type": "code",
   "execution_count": null,
   "metadata": {},
   "outputs": [],
   "source": [
    "file_list"
   ]
  },
  {
   "cell_type": "code",
   "execution_count": null,
   "metadata": {},
   "outputs": [],
   "source": [
    "file_name_list = []\n",
    "for i in range(len(file_list)):\n",
    "    file_name_list.append(file_list[i])"
   ]
  },
  {
   "cell_type": "code",
   "execution_count": null,
   "metadata": {
    "scrolled": true
   },
   "outputs": [],
   "source": [
    "file_name_list"
   ]
  },
  {
   "cell_type": "code",
   "execution_count": null,
   "metadata": {
    "scrolled": true
   },
   "outputs": [],
   "source": [
    "image = cv2.imread('C:/Users/mnju5/2023-youtuber-crawling/youtuber-look-alike-crawler/glory/hj\n",
    "/000009.jpg')\n",
    "print(image)"
   ]
  },
  {
   "cell_type": "code",
   "execution_count": null,
   "metadata": {},
   "outputs": [],
   "source": [
    "class AlbumentationsDataset(Dataset):\n",
    "    def __init__(self, file_path, labels, transform=None): #과제에는 labels 빼도 됨\n",
    "        self.file_path = file_path\n",
    "        self.labels = labels\n",
    "        self.transform = transform\n",
    "\n",
    "# 파일 여러개 처리할 수 있도록 수정 필요\n",
    "    def __getitem__(self, index):\n",
    "        label = self.labels[index]\n",
    "        file_path = self.file_path[index]\n",
    "\n",
    "        # Image open\n",
    "        # image = Image.open(file_path)\n",
    "        image = cv2.imread(file_path)\n",
    "\n",
    "        image = cv2.cvtColor(image, cv2.COLOR_BGR2RGB)\n",
    "\n",
    "        start_t = time.time()\n",
    "        if self.transform:\n",
    "            augmented = self.transform(image=image)\n",
    "            image = augmented['image']\n",
    "\n",
    "        total_time = (time.time() - start_t)\n",
    "\n",
    "        return image, label, total_time\n",
    "\n",
    "    def __len__(self):\n",
    "        return len(self.file_path)"
   ]
  },
  {
   "cell_type": "code",
   "execution_count": null,
   "metadata": {},
   "outputs": [],
   "source": [
    "albumentations_transform = A.Compose([\n",
    "    A.HorizontalFlip(p=0.5),\n",
    "    A.RandomBrightnessContrast(p=0.5),\n",
    "    #A.ShiftScaleRotate(shift_limit=0.4, scale_limit=(0.5, 0.9), rotate_limit=90, p=1, border_mode=cv2.BORDER_REPLICATE),\n",
    "    A.RandomBrightnessContrast(brightness_limit=(-0.3, 0.3), contrast_limit=(-0.3, 0.3), p=1),\n",
    "    A.ChannelShuffle(p=0.2),\n",
    "    ToTensorV2()\n",
    "])"
   ]
  },
  {
   "cell_type": "code",
   "execution_count": null,
   "metadata": {},
   "outputs": [],
   "source": [
    "import time"
   ]
  },
  {
   "cell_type": "code",
   "execution_count": null,
   "metadata": {},
   "outputs": [],
   "source": [
    "augment_cnt = 1\n",
    "\n",
    "# 데이터 가져오기\n",
    "for i in os.listdir('C:/Users/mnju5/2023-youtuber-crawling/youtuber-look-alike-crawler/glory/mo/') :\n",
    "\n",
    "    os.makedirs(\"./custom_data\", exist_ok=True)\n",
    "\n",
    "    path = 'C:/Users/mnju5/2023-youtuber-crawling/youtuber-look-alike-crawler/glory/mo/' + i\n",
    "    albumentations_dataset = AlbumentationsDataset(\n",
    "            file_path=[path], #데이터 경로\n",
    "            labels=[1],\n",
    "            transform=albumentations_transform\n",
    "    )\n",
    "\n",
    "    # 배포 시간 측정\n",
    "    total_time = 0\n",
    "    for i in range(100):\n",
    "        sample, _, transform_time = albumentations_dataset[0]\n",
    "        total_time += transform_time\n",
    "\n",
    "    print(\"torchvision time / sample : {} ms \".format(total_time*10))\n",
    "\n",
    "    # 시각화 코드\n",
    "    plt.figure(figsize=(10, 10))\n",
    "    plt.imshow(transforms.ToPILImage()(sample)) #sample(1개) 말고 데이터 셋(여러개)으로 줘야 함\n",
    "    #plt.show()\n",
    "    transforms.ToPILImage()(sample).save(\"./custom_data/\" + \"custom_\" + str(augment_cnt) + \".png\")\n",
    "\n",
    "    augment_cnt += 1"
   ]
  }
 ],
 "metadata": {
  "kernelspec": {
   "display_name": "Python 3",
   "language": "python",
   "name": "python3"
  },
  "language_info": {
   "codemirror_mode": {
    "name": "ipython",
    "version": 3
   },
   "file_extension": ".py",
   "mimetype": "text/x-python",
   "name": "python",
   "nbconvert_exporter": "python",
   "pygments_lexer": "ipython3",
   "version": "3.8.5"
  }
 },
 "nbformat": 4,
 "nbformat_minor": 4
}
