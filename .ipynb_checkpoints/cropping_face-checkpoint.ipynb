{
 "cells": [
  {
   "cell_type": "markdown",
   "metadata": {},
   "source": [
    "## IMPORT"
   ]
  },
  {
   "cell_type": "code",
   "execution_count": null,
   "metadata": {},
   "outputs": [],
   "source": [
    "pip install opencv-python"
   ]
  },
  {
   "cell_type": "code",
   "execution_count": 1,
   "metadata": {},
   "outputs": [],
   "source": [
    "import numpy as np\n",
    "import cv2\n",
    "import os\n",
    "import pandas as pd"
   ]
  },
  {
   "cell_type": "markdown",
   "metadata": {},
   "source": [
    "## PATH 설정"
   ]
  },
  {
   "cell_type": "code",
   "execution_count": 2,
   "metadata": {},
   "outputs": [],
   "source": [
    "path = 'C:/Users/mnju5/2023-youtuber-crawling/youtuber-look-alike-crawler/faces/ayoung/'"
   ]
  },
  {
   "cell_type": "code",
   "execution_count": 3,
   "metadata": {},
   "outputs": [],
   "source": [
    "file_list = os.listdir(path)"
   ]
  },
  {
   "cell_type": "code",
   "execution_count": 4,
   "metadata": {},
   "outputs": [
    {
     "data": {
      "text/plain": [
       "'000001.jpg'"
      ]
     },
     "execution_count": 4,
     "metadata": {},
     "output_type": "execute_result"
    }
   ],
   "source": [
    "file_list[0]"
   ]
  },
  {
   "cell_type": "code",
   "execution_count": 5,
   "metadata": {},
   "outputs": [],
   "source": [
    "file_name_list = []\n",
    "\n",
    "for i in range(len(file_list)):\n",
    "    file_name_list.append(file_list[i].replace(\".png\", \".jpg\"))"
   ]
  },
  {
   "cell_type": "code",
   "execution_count": 6,
   "metadata": {},
   "outputs": [
    {
     "data": {
      "text/plain": [
       "['000001.jpg',\n",
       " '000002.jpg',\n",
       " '000003.jpg',\n",
       " '000004.jpg',\n",
       " '000005.jpg',\n",
       " '000006.jpg',\n",
       " '000007.jpg',\n",
       " '000008.jpg',\n",
       " '000009.jpg',\n",
       " '000009.png',\n",
       " '000010.jpg',\n",
       " '000010.png',\n",
       " '000011.jpg',\n",
       " '000012.jpg',\n",
       " '000013.jpg',\n",
       " '000014.jpg',\n",
       " '000015.jpg',\n",
       " '000016.jpg',\n",
       " '000016.png',\n",
       " '000017.jpg',\n",
       " '000017.png',\n",
       " '000018.jpg',\n",
       " '000019.jpg',\n",
       " '000019.png',\n",
       " '000020.jpg',\n",
       " '000021.jpg',\n",
       " '000022.jpg',\n",
       " '000023.jpg',\n",
       " '000024.jpg',\n",
       " '000024.png',\n",
       " '000025.jpg',\n",
       " '000026.jpg',\n",
       " '000027.jpg',\n",
       " '000028.jpg',\n",
       " '000029.jpg',\n",
       " '000029.png',\n",
       " '000030.jpg',\n",
       " '000030.png',\n",
       " '000031.jpg',\n",
       " '000032.jpg',\n",
       " '000032.png',\n",
       " '000033.jpg',\n",
       " '000033.png',\n",
       " '000034.jpg',\n",
       " '000035.jpg',\n",
       " '000035.png',\n",
       " '000036.jpg',\n",
       " '000036.png',\n",
       " '000037.jpg',\n",
       " '000038.jpg',\n",
       " '000039.jpg',\n",
       " '000040.jpg',\n",
       " '000040.png',\n",
       " '000041.jpg',\n",
       " '000041.png',\n",
       " '000042.jpg',\n",
       " '000043.jpg',\n",
       " '000044.jpg',\n",
       " '000045.jpg',\n",
       " '000046.jpg',\n",
       " '000047.jpg',\n",
       " '000048.jpg',\n",
       " '000049.jpg',\n",
       " '000049.png',\n",
       " '000050.jpg',\n",
       " '000051.jpg',\n",
       " '000052.jpg',\n",
       " '000053.jpg',\n",
       " '000054.jpg',\n",
       " '000055.jpg',\n",
       " '000056.jpg',\n",
       " '000057.jpg',\n",
       " '000058.jpg',\n",
       " '000059.jpg',\n",
       " '000060.jpg',\n",
       " '000060.png',\n",
       " '000061.jpg',\n",
       " '000062.jpg',\n",
       " '000063.jpg',\n",
       " '000064.jpg',\n",
       " '000065.jpg',\n",
       " '000066.jpg',\n",
       " '000067.jpg',\n",
       " '000068.jpg',\n",
       " '000069.jpg',\n",
       " '000070.jpg',\n",
       " '000071.jpg',\n",
       " '000072.jpg']"
      ]
     },
     "execution_count": 6,
     "metadata": {},
     "output_type": "execute_result"
    }
   ],
   "source": [
    "file_list"
   ]
  },
  {
   "cell_type": "markdown",
   "metadata": {},
   "source": [
    "## 확인해보기"
   ]
  },
  {
   "cell_type": "code",
   "execution_count": 11,
   "metadata": {},
   "outputs": [],
   "source": [
    "image = cv2.imread('C:/Users/mnju5/2023-youtuber-crawling/youtuber-look-alike-crawler/faces/ayoung/000001.jpg')"
   ]
  },
  {
   "cell_type": "code",
   "execution_count": 12,
   "metadata": {},
   "outputs": [],
   "source": [
    "face_cascade = cv2.CascadeClassifier(\"haarcascade_frontalface_default.xml\")"
   ]
  },
  {
   "cell_type": "code",
   "execution_count": 13,
   "metadata": {},
   "outputs": [],
   "source": [
    "gray = cv2.cvtColor(image, cv2.COLOR_BGR2GRAY)"
   ]
  },
  {
   "cell_type": "code",
   "execution_count": 14,
   "metadata": {},
   "outputs": [],
   "source": [
    "faces = face_cascade.detectMultiScale(gray, 1.3, 5)\n",
    "for (x,y,w,h) in faces:\n",
    "    cv2.rectangle(image,(x,y),(x+w,y+h),(0,255,0),2)\n",
    "    cv2.imshow(\"face_recognition\", image)\n",
    "    cv2.waitKey(0)\n",
    "    cv2.destroyAllWindows()"
   ]
  },
  {
   "cell_type": "markdown",
   "metadata": {},
   "source": [
    "## 얼굴만 자르기"
   ]
  },
  {
   "cell_type": "code",
   "execution_count": null,
   "metadata": {},
   "outputs": [],
   "source": [
    "image = cv2.imread('C:/Users/mnju5/2023-youtuber-crawling/youtuber-look-alike-crawler/faces/ayoung/000001.jpg')"
   ]
  },
  {
   "cell_type": "code",
   "execution_count": null,
   "metadata": {},
   "outputs": [],
   "source": [
    "face_cascade = cv2.CascadeClassifier(\"haarcascade_frontalface_default.xml\")"
   ]
  },
  {
   "cell_type": "code",
   "execution_count": null,
   "metadata": {},
   "outputs": [],
   "source": [
    "faces = face_cascade.detectMultiScale(gray, 1.3, 5)\n",
    "for (x,y,w,h) in faces:\n",
    "    cv2.rectangle(image,(x,y),(x+w,y+h),(0,255,0),2)\n",
    "    cropped = image[y: y+h, x:x+w]\n",
    "    resize = cv2.resize(cropped, (180,180))\n",
    "    cv2.imshow(\"crop&resize\", resize)\n",
    "    cv2.waitKey(0)\n",
    "    cv2.destroyAllWindows()"
   ]
  },
  {
   "cell_type": "markdown",
   "metadata": {},
   "source": [
    "## crop face 함수 생성"
   ]
  },
  {
   "cell_type": "code",
   "execution_count": null,
   "metadata": {},
   "outputs": [],
   "source": [
    "def cropping_face(image, name):\n",
    "    face_cascade = cv2.CascadeClassifier(\"haarcascade_frontalface_default.xml\")\n",
    "    gray = cv2.cvtColor(image, cv2.COLOR_BGR2GRAY)\n",
    "    faces = face_cascade.detectMultiScale(gray, 1.3, 5)\n",
    "    for (x,y,w,h) in faces:\n",
    "        #cv2.rectangle(image,(x,y),(x+w,y+h),(0,255,0),2)\n",
    "        cropped = image[y: y+h, x:x+w]\n",
    "        resize = cv2.resize(cropped, (180,180))\n",
    "        #cv2.imshow(\"crop&resize\", resize)\n",
    "        #cv2.waitKey(0)\n",
    "        #cv2.destroyAllWindows()\n",
    "        \n",
    "        cv2.imwrite(f\"C:/Users/mnju5/2023-youtuber-crawling/youtuber-look-alike-crawler/faces/ayoung/{name}.jpg\", resize)"
   ]
  },
  {
   "cell_type": "code",
   "execution_count": null,
   "metadata": {},
   "outputs": [],
   "source": [
    "for name in file_name_list:\n",
    "    img = cv2.imread('C:/Users/mnju5/2023-youtuber-crawling/youtuber-look-alike-crawler/faces/ayoung/'+name+'.jpg')\n",
    "    cropping_face(img, name)"
   ]
  },
  {
   "cell_type": "code",
   "execution_count": null,
   "metadata": {},
   "outputs": [],
   "source": []
  }
 ],
 "metadata": {
  "kernelspec": {
   "display_name": "Python 3",
   "language": "python",
   "name": "python3"
  },
  "language_info": {
   "codemirror_mode": {
    "name": "ipython",
    "version": 3
   },
   "file_extension": ".py",
   "mimetype": "text/x-python",
   "name": "python",
   "nbconvert_exporter": "python",
   "pygments_lexer": "ipython3",
   "version": "3.8.5"
  }
 },
 "nbformat": 4,
 "nbformat_minor": 4
}
