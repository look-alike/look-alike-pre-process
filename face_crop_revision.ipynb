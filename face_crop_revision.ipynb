{
 "cells": [
  {
   "cell_type": "code",
   "execution_count": 1,
   "id": "bff2cb04",
   "metadata": {},
   "outputs": [
    {
     "name": "stdout",
     "output_type": "stream",
     "text": [
      "Requirement already satisfied: opencv-python in c:\\users\\82103\\anaconda3\\lib\\site-packages (4.7.0.72)\n",
      "Requirement already satisfied: numpy>=1.17.3 in c:\\users\\82103\\anaconda3\\lib\\site-packages (from opencv-python) (1.20.1)\n",
      "Note: you may need to restart the kernel to use updated packages.\n"
     ]
    }
   ],
   "source": [
    "pip install opencv-python"
   ]
  },
  {
   "cell_type": "code",
   "execution_count": 2,
   "id": "60c28ca0",
   "metadata": {},
   "outputs": [
    {
     "name": "stdout",
     "output_type": "stream",
     "text": [
      "Requirement already satisfied: Pillow in c:\\users\\82103\\anaconda3\\lib\\site-packages (8.2.0)\n",
      "Note: you may need to restart the kernel to use updated packages.\n"
     ]
    }
   ],
   "source": [
    "pip install Pillow"
   ]
  },
  {
   "cell_type": "code",
   "execution_count": 2,
   "id": "c6d3bdab",
   "metadata": {},
   "outputs": [],
   "source": [
    "import numpy as np\n",
    "import cv2\n",
    "import os\n",
    "import pandas as pd"
   ]
  },
  {
   "cell_type": "code",
   "execution_count": 4,
   "id": "26e7a8a1",
   "metadata": {},
   "outputs": [],
   "source": [
    "path = 'C:/Users/82103/Documents/Deep daiv/deep_learning_wiki/youtuber_alike/'"
   ]
  },
  {
   "cell_type": "markdown",
   "id": "54bee265",
   "metadata": {},
   "source": [
    "### png to jpg"
   ]
  },
  {
   "cell_type": "code",
   "execution_count": 5,
   "id": "662eb652",
   "metadata": {},
   "outputs": [],
   "source": [
    "from PIL import Image\n",
    "path = 'C:/Users/82103/Documents/Deep daiv/deep_learning_wiki/youtuber_alike/ojy/'\n",
    "file_list = os.listdir(path)\n",
    "for i in range(len(file_list)):\n",
    "    if file_list[i][-4:] == 'jpeg':\n",
    "        Image.open(path + '/'+file_list[i]).convert('RGB').save(path + '/' + file_list[i][:-4] +'.jpg')\n",
    "        os.remove(path + '/'+file_list[i])"
   ]
  },
  {
   "cell_type": "markdown",
   "id": "3925970e",
   "metadata": {},
   "source": [
    "### 이미지 한 개로 얼굴 크롭 코드 연습"
   ]
  },
  {
   "cell_type": "code",
   "execution_count": 5,
   "id": "7dc921a7",
   "metadata": {},
   "outputs": [],
   "source": [
    "import cv2\n",
    "\n",
    "face_cascade = cv2.CascadeClassifier(\"C:\\\\Users\\\\82103\\\\Documents\\\\Deep daiv\\\\deep_learning_wiki\\\\youtuber_alike\\\\haar-cascade-files\\\\haarcascade_frontalface_alt.xml\")\n",
    "eye_cascade = cv2.CascadeClassifier('C:\\\\Users\\\\82103\\\\Documents\\\\Deep daiv\\\\deep_learning_wiki\\\\youtuber_alike\\\\haar-cascade-files\\\\haarcascade_eye.xml')"
   ]
  },
  {
   "cell_type": "code",
   "execution_count": 6,
   "id": "424ea0e1",
   "metadata": {},
   "outputs": [
    {
     "name": "stdout",
     "output_type": "stream",
     "text": [
      "[[[240 232 225]\n",
      "  [240 232 225]\n",
      "  [241 233 226]\n",
      "  ...\n",
      "  [202 203 201]\n",
      "  [198 199 197]\n",
      "  [196 197 195]]\n",
      "\n",
      " [[240 232 225]\n",
      "  [240 232 225]\n",
      "  [240 232 225]\n",
      "  ...\n",
      "  [205 203 202]\n",
      "  [201 199 198]\n",
      "  [199 197 196]]\n",
      "\n",
      " [[239 231 224]\n",
      "  [239 231 224]\n",
      "  [240 232 225]\n",
      "  ...\n",
      "  [206 204 203]\n",
      "  [202 200 199]\n",
      "  [200 198 197]]\n",
      "\n",
      " ...\n",
      "\n",
      " [[242 242 242]\n",
      "  [242 242 242]\n",
      "  [243 243 243]\n",
      "  ...\n",
      "  [242 242 242]\n",
      "  [242 242 242]\n",
      "  [242 242 242]]\n",
      "\n",
      " [[242 242 242]\n",
      "  [242 242 242]\n",
      "  [242 242 242]\n",
      "  ...\n",
      "  [242 242 242]\n",
      "  [242 242 242]\n",
      "  [242 242 242]]\n",
      "\n",
      " [[242 242 242]\n",
      "  [242 242 242]\n",
      "  [242 242 242]\n",
      "  ...\n",
      "  [242 242 242]\n",
      "  [242 242 242]\n",
      "  [242 242 242]]]\n"
     ]
    }
   ],
   "source": [
    "img = cv2.imread('C:/Users/82103/Documents/Deep daiv/deep_learning_wiki/youtuber_alike/ojy/000001.jpg')\n",
    "print(img)"
   ]
  },
  {
   "cell_type": "code",
   "execution_count": 7,
   "id": "542ae4d8",
   "metadata": {},
   "outputs": [],
   "source": [
    "gray = cv2.cvtColor(img, cv2.COLOR_BGR2GRAY)\n",
    "faces = face_cascade.detectMultiScale(gray, 1.3,5)"
   ]
  },
  {
   "cell_type": "code",
   "execution_count": 1,
   "id": "066b35f1",
   "metadata": {},
   "outputs": [
    {
     "ename": "NameError",
     "evalue": "name 'faces' is not defined",
     "output_type": "error",
     "traceback": [
      "\u001b[1;31m---------------------------------------------------------------------------\u001b[0m",
      "\u001b[1;31mNameError\u001b[0m                                 Traceback (most recent call last)",
      "\u001b[1;32m<ipython-input-1-95af053629a6>\u001b[0m in \u001b[0;36m<module>\u001b[1;34m\u001b[0m\n\u001b[0;32m      1\u001b[0m \u001b[1;31m# ??\u001b[0m\u001b[1;33m\u001b[0m\u001b[1;33m\u001b[0m\u001b[1;33m\u001b[0m\u001b[0m\n\u001b[1;32m----> 2\u001b[1;33m \u001b[1;32mfor\u001b[0m \u001b[1;33m(\u001b[0m\u001b[0mx\u001b[0m\u001b[1;33m,\u001b[0m\u001b[0my\u001b[0m\u001b[1;33m,\u001b[0m\u001b[0mw\u001b[0m\u001b[1;33m,\u001b[0m\u001b[0mh\u001b[0m\u001b[1;33m)\u001b[0m \u001b[1;32min\u001b[0m \u001b[0mfaces\u001b[0m\u001b[1;33m:\u001b[0m\u001b[1;33m\u001b[0m\u001b[1;33m\u001b[0m\u001b[0m\n\u001b[0m\u001b[0;32m      3\u001b[0m     \u001b[0mcv2\u001b[0m\u001b[1;33m.\u001b[0m\u001b[0mrectangle\u001b[0m\u001b[1;33m(\u001b[0m\u001b[0mimg\u001b[0m\u001b[1;33m,\u001b[0m\u001b[1;33m(\u001b[0m\u001b[0mx\u001b[0m\u001b[1;33m,\u001b[0m\u001b[0my\u001b[0m\u001b[1;33m)\u001b[0m\u001b[1;33m,\u001b[0m\u001b[1;33m(\u001b[0m\u001b[0mx\u001b[0m\u001b[1;33m+\u001b[0m\u001b[0mw\u001b[0m\u001b[1;33m,\u001b[0m\u001b[0my\u001b[0m\u001b[1;33m+\u001b[0m\u001b[0mh\u001b[0m\u001b[1;33m)\u001b[0m\u001b[1;33m,\u001b[0m\u001b[1;33m(\u001b[0m\u001b[1;36m0\u001b[0m\u001b[1;33m,\u001b[0m\u001b[1;36m255\u001b[0m\u001b[1;33m,\u001b[0m\u001b[1;36m0\u001b[0m\u001b[1;33m)\u001b[0m\u001b[1;33m,\u001b[0m\u001b[1;36m2\u001b[0m\u001b[1;33m)\u001b[0m\u001b[1;33m\u001b[0m\u001b[1;33m\u001b[0m\u001b[0m\n\u001b[0;32m      4\u001b[0m     \u001b[0mcropped\u001b[0m \u001b[1;33m=\u001b[0m \u001b[0mimg\u001b[0m\u001b[1;33m[\u001b[0m\u001b[0my\u001b[0m\u001b[1;33m:\u001b[0m \u001b[0my\u001b[0m\u001b[1;33m+\u001b[0m\u001b[0mh\u001b[0m\u001b[1;33m,\u001b[0m \u001b[0mx\u001b[0m\u001b[1;33m:\u001b[0m\u001b[0mx\u001b[0m\u001b[1;33m+\u001b[0m\u001b[0mw\u001b[0m\u001b[1;33m]\u001b[0m\u001b[1;33m\u001b[0m\u001b[1;33m\u001b[0m\u001b[0m\n\u001b[0;32m      5\u001b[0m     \u001b[0mresize\u001b[0m \u001b[1;33m=\u001b[0m \u001b[0mcv2\u001b[0m\u001b[1;33m.\u001b[0m\u001b[0mresize\u001b[0m\u001b[1;33m(\u001b[0m\u001b[0mcropped\u001b[0m\u001b[1;33m,\u001b[0m \u001b[1;33m(\u001b[0m\u001b[1;36m180\u001b[0m\u001b[1;33m,\u001b[0m\u001b[1;36m180\u001b[0m\u001b[1;33m)\u001b[0m\u001b[1;33m)\u001b[0m\u001b[1;33m\u001b[0m\u001b[1;33m\u001b[0m\u001b[0m\n",
      "\u001b[1;31mNameError\u001b[0m: name 'faces' is not defined"
     ]
    }
   ],
   "source": [
    "# ?? \n",
    "for (x,y,w,h) in faces:\n",
    "    cv2.rectangle(img,(x,y),(x+w,y+h),(0,255,0),2)\n",
    "    cropped = img[y: y+h, x:x+w]\n",
    "    resize = cv2.resize(cropped, (180,180))\n",
    "    cv2.imshow(\"crop&resize\", resize)\n",
    "    cv2.waitKey(0)\n",
    "    cv2.destroyAllWindows()"
   ]
  },
  {
   "cell_type": "code",
   "execution_count": 31,
   "id": "30c775b4",
   "metadata": {},
   "outputs": [],
   "source": [
    "for (x,y,w,h) in faces:\n",
    "    # cv2.rectangle(img,(x,y),(x+w,y+h),(0,255,0),2)\n",
    "    cropped = img[y: y+h, x:x+w]\n",
    "    resize = cv2.resize(cropped, (180,180))\n",
    "    cv2.imwrite('C:/Users/82103/Documents/Deep daiv/deep_learning_wiki/youtuber_alike/ojy/000001.jpg', resize)"
   ]
  },
  {
   "cell_type": "markdown",
   "id": "62c89383",
   "metadata": {},
   "source": [
    "### 얼굴 크롭하는 함수 만들기"
   ]
  },
  {
   "cell_type": "code",
   "execution_count": 8,
   "id": "33f3bafa",
   "metadata": {},
   "outputs": [],
   "source": [
    "def cropping_face(image, name, path):\n",
    "    face_cascade = cv2.CascadeClassifier(\"C:\\\\Users\\\\82103\\\\Documents\\\\Deep daiv\\\\deep_learning_wiki\\\\youtuber_alike\\\\haar-cascade-files\\\\haarcascade_frontalface_alt2.xml\")\n",
    "    gray = cv2.cvtColor(image, cv2.COLOR_BGR2GRAY)\n",
    "    faces = face_cascade.detectMultiScale(gray, 1.3, 5)\n",
    "    for (x,y,w,h) in faces:\n",
    "        #cv2.rectangle(image,(x,y),(x+w,y+h),(0,255,0),2)\n",
    "        cropped = image[y: y+h, x:x+w]\n",
    "        resize = cv2.resize(cropped, (180,180))\n",
    "        #cv2.imshow(\"crop&resize\", resize)\n",
    "        #cv2.waitKey(0)\n",
    "        #cv2.destroyAllWindows()\n",
    "        \n",
    "        cv2.imwrite(path + file_list[i], resize)"
   ]
  },
  {
   "cell_type": "code",
   "execution_count": null,
   "id": "fdccaf1a",
   "metadata": {},
   "outputs": [],
   "source": [
    "for name in file_name_list:\n",
    "    img = cv2.imread('C:/Users/mnju5/2023-youtuber-crawling/youtuber-look-alike-crawler/mo/'+name)\n",
    "    cropping_face(img, name)"
   ]
  },
  {
   "cell_type": "code",
   "execution_count": 16,
   "id": "ce4dffa6",
   "metadata": {},
   "outputs": [
    {
     "name": "stdout",
     "output_type": "stream",
     "text": [
      "000001.jpg\n",
      "000001.jpg\n",
      "000001.jpg\n",
      "000001.jpg\n"
     ]
    }
   ],
   "source": [
    "name_list = ['ojy', 'jjj', 'jsi', 'khar']\n",
    "for name in name_list:\n",
    "    path = 'C:/Users/82103/Documents/Deep daiv/deep_learning_wiki/youtuber_alike/'+ name + '/'\n",
    "    file_list = os.listdir(path)\n",
    "    print(file_list[0])\n",
    "    for i in range(len(file_list)):\n",
    "        img = cv2.imread(path + file_list[i])\n",
    "        cropping_face(img, name, path)"
   ]
  },
  {
   "cell_type": "code",
   "execution_count": 12,
   "id": "abcc9ab9",
   "metadata": {},
   "outputs": [
    {
     "name": "stdout",
     "output_type": "stream",
     "text": [
      "000001.jpg\n"
     ]
    }
   ],
   "source": [
    "path = 'C:/Users/82103/Documents/Deep daiv/deep_learning_wiki/youtuber_alike/ojy/'\n",
    "file_list = os.listdir(path)\n",
    "print(file_list[0])\n",
    "for i in range(len(file_list)):\n",
    "    img = cv2.imread(path + file_list[i])\n",
    "    cropping_face(img, 'ojy', path)"
   ]
  },
  {
   "cell_type": "code",
   "execution_count": null,
   "id": "4321b1f9",
   "metadata": {},
   "outputs": [],
   "source": []
  }
 ],
 "metadata": {
  "kernelspec": {
   "display_name": "Python 3",
   "language": "python",
   "name": "python3"
  },
  "language_info": {
   "codemirror_mode": {
    "name": "ipython",
    "version": 3
   },
   "file_extension": ".py",
   "mimetype": "text/x-python",
   "name": "python",
   "nbconvert_exporter": "python",
   "pygments_lexer": "ipython3",
   "version": "3.8.8"
  }
 },
 "nbformat": 4,
 "nbformat_minor": 5
}
