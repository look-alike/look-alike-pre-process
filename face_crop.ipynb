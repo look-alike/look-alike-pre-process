{
 "cells": [
  {
   "cell_type": "code",
   "execution_count": 1,
   "id": "5d591815",
   "metadata": {},
   "outputs": [
    {
     "name": "stdout",
     "output_type": "stream",
     "text": [
      "Requirement already satisfied: opencv-python in c:\\users\\82103\\anaconda3\\lib\\site-packages (4.7.0.72)\n",
      "Requirement already satisfied: numpy>=1.17.0 in c:\\users\\82103\\anaconda3\\lib\\site-packages (from opencv-python) (1.20.1)\n",
      "Note: you may need to restart the kernel to use updated packages.\n"
     ]
    }
   ],
   "source": [
    "pip install opencv-python"
   ]
  },
  {
   "cell_type": "code",
   "execution_count": 2,
   "id": "274e0387",
   "metadata": {},
   "outputs": [
    {
     "name": "stdout",
     "output_type": "stream",
     "text": [
      "Requirement already satisfied: Pillow in c:\\users\\82103\\anaconda3\\lib\\site-packages (8.2.0)\n",
      "Note: you may need to restart the kernel to use updated packages.\n"
     ]
    }
   ],
   "source": [
    "pip install Pillow"
   ]
  },
  {
   "cell_type": "code",
   "execution_count": 3,
   "id": "e221e46e",
   "metadata": {},
   "outputs": [],
   "source": [
    "import numpy as np\n",
    "import cv2\n",
    "import os\n",
    "import pandas as pd"
   ]
  },
  {
   "cell_type": "code",
   "execution_count": 27,
   "id": "de92c93a",
   "metadata": {},
   "outputs": [],
   "source": [
    "path = 'C:/Users/82103/Documents/Deep daiv/딥러닝 입문 위키/youtuber_alike/레오제이'"
   ]
  },
  {
   "cell_type": "markdown",
   "id": "888985a2",
   "metadata": {},
   "source": [
    "### png to jpg 근데 왜 저장이 안 되는 걸까??! 진짜 이유를 모르겠다.\n",
    "### + 저장은 되는데 파일이 안열린다.. jpg로 변환하는 거 취소.."
   ]
  },
  {
   "cell_type": "code",
   "execution_count": 28,
   "id": "e1514ce7",
   "metadata": {},
   "outputs": [],
   "source": [
    "file_list = os.listdir(path)"
   ]
  },
  {
   "cell_type": "code",
   "execution_count": 29,
   "id": "75b086f2",
   "metadata": {},
   "outputs": [
    {
     "data": {
      "text/plain": [
       "'000002.jpg'"
      ]
     },
     "execution_count": 29,
     "metadata": {},
     "output_type": "execute_result"
    }
   ],
   "source": [
    "file_list[1]"
   ]
  },
  {
   "cell_type": "code",
   "execution_count": 30,
   "id": "90d2f8ba",
   "metadata": {
    "scrolled": true
   },
   "outputs": [
    {
     "data": {
      "text/plain": [
       "'jpg'"
      ]
     },
     "execution_count": 30,
     "metadata": {},
     "output_type": "execute_result"
    }
   ],
   "source": [
    "file_list[1][-3:]"
   ]
  },
  {
   "cell_type": "code",
   "execution_count": 31,
   "id": "498af92b",
   "metadata": {},
   "outputs": [
    {
     "data": {
      "text/plain": [
       "'000002'"
      ]
     },
     "execution_count": 31,
     "metadata": {},
     "output_type": "execute_result"
    }
   ],
   "source": [
    "file_list[1][:-4]"
   ]
  },
  {
   "cell_type": "code",
   "execution_count": 11,
   "id": "e1cb6734",
   "metadata": {
    "scrolled": false
   },
   "outputs": [],
   "source": [
    "from PIL import Image\n",
    "for i in range(len(file_list)):\n",
    "    if file_list[i][-3:] == 'png':\n",
    "        im = Image.open(path + '/' + file_list[i]).convert('RGB')\n",
    "        im.save(path + '/' + file_list[i][:-4], 'jpeg') "
   ]
  },
  {
   "cell_type": "markdown",
   "id": "dc812573",
   "metadata": {},
   "source": [
    "### 상관없는 이미지 수작업처리 후 파일명 '이름 (번호)' 로 통일 "
   ]
  },
  {
   "cell_type": "markdown",
   "id": "a04df5d0",
   "metadata": {},
   "source": [
    "### 파일명 숫자로 바꿔주기 "
   ]
  },
  {
   "cell_type": "code",
   "execution_count": 49,
   "id": "c0f34326",
   "metadata": {},
   "outputs": [],
   "source": [
    "import os\n",
    "import glob\n",
    " \n",
    "fpath = \"C:/Users/82103/Documents/Deep daiv/딥러닝 입문 위키/youtuber_alike/덱스/*.jpg\"  #해당 폴더안에 jpg 확장자 모두 불러오기\n",
    "for fpath in glob.glob(fpath):\n",
    "    fpath_r = fpath.replace('덱스 (','(') #덱스 (27).jpg => (27).jpg로 변경\n",
    "    os.rename(fpath, fpath_r)"
   ]
  },
  {
   "cell_type": "code",
   "execution_count": 53,
   "id": "b365b94b",
   "metadata": {},
   "outputs": [],
   "source": [
    "fpath = \"C:/Users/82103/Documents/Deep daiv/딥러닝 입문 위키/youtuber_alike/덱스/*.jpg\"\n",
    "for fpath in glob.glob(fpath):\n",
    "    fpath_r = fpath.replace('(','') #(27).jpg => 27).jpg로 변경\n",
    "    os.rename(fpath, fpath_r)\n"
   ]
  },
  {
   "cell_type": "code",
   "execution_count": 54,
   "id": "2aa5f4a5",
   "metadata": {},
   "outputs": [],
   "source": [
    "fpath = \"C:/Users/82103/Documents/Deep daiv/딥러닝 입문 위키/youtuber_alike/덱스/*.jpg\"\n",
    "for fpath in glob.glob(fpath):\n",
    "    fpath_r = fpath.replace(')','')\n",
    "    os.rename(fpath, fpath_r)\n"
   ]
  },
  {
   "cell_type": "markdown",
   "id": "fee3b613",
   "metadata": {},
   "source": [
    "### 민주 코드 참고해서 파일명만 png -> jpg로 바꿔줌"
   ]
  },
  {
   "cell_type": "code",
   "execution_count": 32,
   "id": "b6b6c6b5",
   "metadata": {},
   "outputs": [],
   "source": [
    "file_name_list = []\n",
    "\n",
    "for i in range(len(file_list)):\n",
    "    file_name_list.append(file_list[i].replace(\".png\", \".jpg\"))"
   ]
  },
  {
   "cell_type": "code",
   "execution_count": 33,
   "id": "8040c459",
   "metadata": {},
   "outputs": [
    {
     "data": {
      "text/plain": [
       "['000001.jpg',\n",
       " '000002.jpg',\n",
       " '000003.jpg',\n",
       " '000004.jpg',\n",
       " '000005.jpg',\n",
       " '000006.jpg',\n",
       " '000007.jpg',\n",
       " '000008.jpg',\n",
       " '000009.jpg',\n",
       " '000010.jpg',\n",
       " '000011.jpg',\n",
       " '000012.jpg',\n",
       " '000013.jpg',\n",
       " '000014.jpg',\n",
       " '000015.jpg',\n",
       " '000016.jpg',\n",
       " '000017.jpg',\n",
       " '000018.jpg',\n",
       " '000019.jpg',\n",
       " '000020.jpg',\n",
       " '000021.jpg',\n",
       " '000022.jpg',\n",
       " '000023.jpg',\n",
       " '000024.jpg',\n",
       " '000025.jpg',\n",
       " '000026.jpg',\n",
       " '000027.jpg',\n",
       " '000028.jpg',\n",
       " '000029.jpg',\n",
       " '000030.jpg',\n",
       " '000031.jpg',\n",
       " '000032.jpg',\n",
       " '000033.jpg',\n",
       " '000034.jpg',\n",
       " '000035.jpg',\n",
       " '000036.jpg',\n",
       " '000037.jpg',\n",
       " '000038.jpg',\n",
       " '000039.jpg',\n",
       " '000040.jpg',\n",
       " '000041.jpg',\n",
       " '000042.jpg',\n",
       " '000043.jpg',\n",
       " '000044.jpg',\n",
       " '000045.jpg',\n",
       " '000046.jpg',\n",
       " '000047.jpg',\n",
       " '000048.jpg',\n",
       " '000049.jpg',\n",
       " '000050.jpg',\n",
       " '000051.jpg',\n",
       " '000052.jpg',\n",
       " '000053.jpg',\n",
       " '000054.jpg',\n",
       " '000055.jpg',\n",
       " '000056.jpg',\n",
       " '000057.jpg',\n",
       " '000058.jpg',\n",
       " '000059.jpg',\n",
       " '000060.jpg',\n",
       " '000061.jpg',\n",
       " '000062.jpg',\n",
       " '000063.jpg',\n",
       " '000064.jpg',\n",
       " '000065.jpg',\n",
       " '000066.jpg',\n",
       " '000067.jpg',\n",
       " '000068.jpg',\n",
       " '000069.jpg',\n",
       " '000070.jpg',\n",
       " '000071.jpg',\n",
       " '000072.jpg',\n",
       " '000073.jpg',\n",
       " '000074.jpg',\n",
       " '000075.jpg',\n",
       " '000076.jpg',\n",
       " '000077.jpg',\n",
       " '000078.jpg',\n",
       " '000079.jpg',\n",
       " '000080.jpg']"
      ]
     },
     "execution_count": 33,
     "metadata": {},
     "output_type": "execute_result"
    }
   ],
   "source": [
    "file_name_list"
   ]
  },
  {
   "cell_type": "markdown",
   "id": "d399730a",
   "metadata": {},
   "source": [
    "### 얼굴 크롭해서 저장해주는 코드 (에러...)"
   ]
  },
  {
   "cell_type": "code",
   "execution_count": 34,
   "id": "70199c0b",
   "metadata": {},
   "outputs": [],
   "source": [
    "import cv2\n",
    " \n",
    "face_cascade = cv2.CascadeClassifier(\"C:\\\\Users\\\\82103\\\\Documents\\\\Deep daiv\\\\딥러닝 입문 위키\\\\youtuber_alike\\\\haar-cascade-files\\\\haarcascade_frontalface_alt.xml\")\n",
    "eye_cascade = cv2.CascadeClassifier('C:\\\\Users\\\\82103\\\\Documents\\\\Deep daiv\\\\딥러닝 입문 위키\\\\youtuber_alike\\\\haar-cascade-files\\\\haarcascade_eye.xml')"
   ]
  },
  {
   "cell_type": "code",
   "execution_count": 40,
   "id": "99e894bf",
   "metadata": {},
   "outputs": [
    {
     "name": "stdout",
     "output_type": "stream",
     "text": [
      "None\n"
     ]
    }
   ],
   "source": [
    "# 왜 None으로 뜰까..? 경로 지정 나올 수 있는 모든 경우의 수로 해본 거 같은데..\n",
    "img = cv2.imread(path + \"/\" + file_name_list[0])\n",
    "img = cv2.imread(\"C:\\\\Users\\\\82103\\\\Documents\\\\Deep daiv\\\\딥러닝 입문 위키\\\\youtuber_alike\\\\레오제이\\\\000001.jpg\")\n",
    "print(img)"
   ]
  },
  {
   "cell_type": "code",
   "execution_count": 43,
   "id": "3f6af653",
   "metadata": {},
   "outputs": [
    {
     "ename": "error",
     "evalue": "OpenCV(4.7.0) D:\\a\\opencv-python\\opencv-python\\opencv\\modules\\imgproc\\src\\color.cpp:182: error: (-215:Assertion failed) !_src.empty() in function 'cv::cvtColor'\n",
     "output_type": "error",
     "traceback": [
      "\u001b[1;31m---------------------------------------------------------------------------\u001b[0m",
      "\u001b[1;31merror\u001b[0m                                     Traceback (most recent call last)",
      "\u001b[1;32m<ipython-input-43-9718100009b6>\u001b[0m in \u001b[0;36m<module>\u001b[1;34m\u001b[0m\n\u001b[0;32m      1\u001b[0m \u001b[1;31m# img 가 안들어가서 에러 뜸\u001b[0m\u001b[1;33m\u001b[0m\u001b[1;33m\u001b[0m\u001b[1;33m\u001b[0m\u001b[0m\n\u001b[1;32m----> 2\u001b[1;33m \u001b[0mgray\u001b[0m \u001b[1;33m=\u001b[0m \u001b[0mcv2\u001b[0m\u001b[1;33m.\u001b[0m\u001b[0mcvtColor\u001b[0m\u001b[1;33m(\u001b[0m\u001b[0mimg\u001b[0m\u001b[1;33m,\u001b[0m \u001b[0mcv2\u001b[0m\u001b[1;33m.\u001b[0m\u001b[0mCOLOR_BGR2GRAY\u001b[0m\u001b[1;33m)\u001b[0m\u001b[1;33m\u001b[0m\u001b[1;33m\u001b[0m\u001b[0m\n\u001b[0m",
      "\u001b[1;31merror\u001b[0m: OpenCV(4.7.0) D:\\a\\opencv-python\\opencv-python\\opencv\\modules\\imgproc\\src\\color.cpp:182: error: (-215:Assertion failed) !_src.empty() in function 'cv::cvtColor'\n"
     ]
    }
   ],
   "source": [
    "# img 가 안들어가서 에러 뜸\n",
    "gray = cv2.cvtColor(img, cv2.COLOR_BGR2GRAY)\n",
    "faces = face_cascade.detectMultiScale(gray, 1.3,5)"
   ]
  },
  {
   "cell_type": "code",
   "execution_count": 41,
   "id": "e5a16920",
   "metadata": {},
   "outputs": [
    {
     "ename": "NameError",
     "evalue": "name 'faces' is not defined",
     "output_type": "error",
     "traceback": [
      "\u001b[1;31m---------------------------------------------------------------------------\u001b[0m",
      "\u001b[1;31mNameError\u001b[0m                                 Traceback (most recent call last)",
      "\u001b[1;32m<ipython-input-41-61c9a767c066>\u001b[0m in \u001b[0;36m<module>\u001b[1;34m\u001b[0m\n\u001b[0;32m      8\u001b[0m \u001b[1;31m#faces = face_cascade.detectMultiScale(gray, 1.3,5)\u001b[0m\u001b[1;33m\u001b[0m\u001b[1;33m\u001b[0m\u001b[1;33m\u001b[0m\u001b[0m\n\u001b[0;32m      9\u001b[0m \u001b[0mimgNum\u001b[0m  \u001b[1;33m=\u001b[0m \u001b[1;36m0\u001b[0m\u001b[1;33m\u001b[0m\u001b[1;33m\u001b[0m\u001b[0m\n\u001b[1;32m---> 10\u001b[1;33m \u001b[1;32mfor\u001b[0m \u001b[1;33m(\u001b[0m\u001b[0mx\u001b[0m\u001b[1;33m,\u001b[0m\u001b[0my\u001b[0m\u001b[1;33m,\u001b[0m\u001b[0mw\u001b[0m\u001b[1;33m,\u001b[0m\u001b[0mh\u001b[0m\u001b[1;33m)\u001b[0m \u001b[1;32min\u001b[0m \u001b[0mfaces\u001b[0m\u001b[1;33m:\u001b[0m\u001b[1;33m\u001b[0m\u001b[1;33m\u001b[0m\u001b[0m\n\u001b[0m\u001b[0;32m     11\u001b[0m     \u001b[0mcropped\u001b[0m \u001b[1;33m=\u001b[0m \u001b[0mimg\u001b[0m\u001b[1;33m[\u001b[0m\u001b[0my\u001b[0m \u001b[1;33m-\u001b[0m \u001b[0mint\u001b[0m\u001b[1;33m(\u001b[0m\u001b[0mh\u001b[0m \u001b[1;33m/\u001b[0m \u001b[1;36m4\u001b[0m\u001b[1;33m)\u001b[0m\u001b[1;33m:\u001b[0m\u001b[0my\u001b[0m \u001b[1;33m+\u001b[0m \u001b[0mh\u001b[0m \u001b[1;33m+\u001b[0m \u001b[0mint\u001b[0m\u001b[1;33m(\u001b[0m\u001b[0mh\u001b[0m \u001b[1;33m/\u001b[0m \u001b[1;36m4\u001b[0m\u001b[1;33m)\u001b[0m\u001b[1;33m,\u001b[0m \u001b[0mx\u001b[0m \u001b[1;33m-\u001b[0m \u001b[0mint\u001b[0m\u001b[1;33m(\u001b[0m\u001b[0mw\u001b[0m \u001b[1;33m/\u001b[0m \u001b[1;36m4\u001b[0m\u001b[1;33m)\u001b[0m\u001b[1;33m:\u001b[0m\u001b[0mx\u001b[0m \u001b[1;33m+\u001b[0m \u001b[0mw\u001b[0m \u001b[1;33m+\u001b[0m \u001b[0mint\u001b[0m\u001b[1;33m(\u001b[0m\u001b[0mw\u001b[0m \u001b[1;33m/\u001b[0m \u001b[1;36m4\u001b[0m\u001b[1;33m)\u001b[0m\u001b[1;33m]\u001b[0m\u001b[1;33m\u001b[0m\u001b[1;33m\u001b[0m\u001b[0m\n\u001b[0;32m     12\u001b[0m     \u001b[1;31m# 이미지를 저장\u001b[0m\u001b[1;33m\u001b[0m\u001b[1;33m\u001b[0m\u001b[1;33m\u001b[0m\u001b[0m\n",
      "\u001b[1;31mNameError\u001b[0m: name 'faces' is not defined"
     ]
    }
   ],
   "source": [
    "#import cv2\n",
    "\n",
    "#face_cascade = cv2.CascadeClassifier('../haarcascades/haarcascade_frontalface_default.xml')\n",
    "#eye_casecade = cv2.CascadeClassifier('../haarcascades/haarcascade_eye.xml')\n",
    "\n",
    "#img = cv2.imread('friends.jpg')\n",
    "#gray = cv2.cvtColor(img, cv2.COLOR_BGR2GRAY)\n",
    "#faces = face_cascade.detectMultiScale(gray, 1.3,5)\n",
    "imgNum  = 0\n",
    "for (x,y,w,h) in faces:\n",
    "    cropped = img[y - int(h / 4):y + h + int(h / 4), x - int(w / 4):x + w + int(w / 4)]\n",
    "    # 이미지를 저장\n",
    "    cv2.imwrite(\"cropped\" + str(imgNum) + \".jpg\", cropped)\n",
    "    imgNum += 1\n",
    "    \n",
    "    # 얼굴 위 사각형 만드는 코드 주석처리\n",
    "    #cv2.rectangle(img, (x,y), (x+w, y+h), (255,0,0),2)\n",
    "    # roi_gray = gray[y:y+h, x:x+w]\n",
    "    # roi_color = img[y:y+h, x:x+w]\n",
    "    # eyes = eye_casecade.detectMultiScale(roi_gray)\n",
    "    # for (ex, ey, ew, eh) in eyes:\n",
    "    #     cv2.rectangle(roi_color, (ex,ey), (ex+ew, ey+eh),(0,255,0),2)\n",
    "\n",
    "cv2.imshow('Image view', img)\n",
    "cv2.waitKey(0)\n",
    "cv2.destroyAllWindows()"
   ]
  },
  {
   "cell_type": "code",
   "execution_count": null,
   "id": "10e52fb3",
   "metadata": {},
   "outputs": [],
   "source": []
  }
 ],
 "metadata": {
  "kernelspec": {
   "display_name": "Python 3",
   "language": "python",
   "name": "python3"
  },
  "language_info": {
   "codemirror_mode": {
    "name": "ipython",
    "version": 3
   },
   "file_extension": ".py",
   "mimetype": "text/x-python",
   "name": "python",
   "nbconvert_exporter": "python",
   "pygments_lexer": "ipython3",
   "version": "3.8.8"
  }
 },
 "nbformat": 4,
 "nbformat_minor": 5
}
